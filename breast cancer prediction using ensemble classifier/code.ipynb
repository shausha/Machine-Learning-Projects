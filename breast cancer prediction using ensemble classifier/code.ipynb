{
 "cells": [
  {
   "cell_type": "code",
   "execution_count": null,
   "metadata": {
    "colab": {
     "base_uri": "https://localhost:8080/"
    },
    "id": "wry_YLNvv7ik",
    "outputId": "0816eab3-1cbf-40d5-a71f-272dff79df0c"
   },
   "outputs": [
    {
     "name": "stdout",
     "output_type": "stream",
     "text": [
      "Accuracy of Support Vector Machine model is : 0.9298245614035088\n"
     ]
    },
    {
     "name": "stderr",
     "output_type": "stream",
     "text": [
      "/usr/local/lib/python3.10/dist-packages/sklearn/ensemble/_base.py:166: FutureWarning: `base_estimator` was renamed to `estimator` in version 1.2 and will be removed in 1.4.\n",
      "  warnings.warn(\n",
      "/usr/local/lib/python3.10/dist-packages/sklearn/ensemble/_base.py:166: FutureWarning: `base_estimator` was renamed to `estimator` in version 1.2 and will be removed in 1.4.\n",
      "  warnings.warn(\n",
      "/usr/local/lib/python3.10/dist-packages/sklearn/ensemble/_base.py:166: FutureWarning: `base_estimator` was renamed to `estimator` in version 1.2 and will be removed in 1.4.\n",
      "  warnings.warn(\n"
     ]
    },
    {
     "name": "stdout",
     "output_type": "stream",
     "text": [
      "Accuracy score for bagging classifier: 0.9327\n",
      "Accuracy score for voting classifier: 0.9561\n"
     ]
    }
   ],
   "source": [
    "import pandas as pd\n",
    "\n",
    "# Load the breast cancer Wisconsin dataset\n",
    "df = pd.read_csv('data.csv')\n",
    "df.head()\n",
    "#dropping the unwanted column\n",
    "df.drop(['id'],axis = 1, inplace = True)\n",
    "\n",
    "#statistical description of the data\n",
    "df.describe()\n",
    "from sklearn.preprocessing import LabelEncoder\n",
    "from sklearn.model_selection import train_test_split\n",
    "\n",
    "#Defining the dataset\n",
    "X = df.drop('diagnosis', axis = 1)\n",
    "y = df['diagnosis']\n",
    "\n",
    "#Convert 'M' and 'B' to numeric (0,1)\n",
    "lb = LabelEncoder()\n",
    "y = lb.fit_transform(y)\n",
    "\n",
    "#Split the dataset\n",
    "X_train, X_test, y_train, y_test = train_test_split(X, y, random_state = 0, test_size = 0.2)\n",
    "# Train multiple classifiers on the training data\n",
    "\n",
    "from sklearn.ensemble import RandomForestClassifier\n",
    "from sklearn.neighbors import KNeighborsClassifier\n",
    "from sklearn.svm import SVC\n",
    "\n",
    "classifiers = [\n",
    "RandomForestClassifier(n_estimators=1000, random_state=0),\n",
    "KNeighborsClassifier(n_neighbors=1),\n",
    "SVC(kernel='linear', probability = True, C=0.1, random_state=0)]\n",
    "\n",
    "# Make predictions for each classifier on the testing data\n",
    "predictions = []\n",
    "for clf in classifiers:\n",
    "  clf.fit(X_train, y_train)\n",
    "  y_pred = clf.predict(X_test)\n",
    "  predictions.append(y_pred)\n",
    "\n",
    "# Calculate the accuracy score for each individual model\n",
    "from sklearn.metrics import accuracy_score\n",
    "from sklearn.metrics import accuracy_score\n",
    "\n",
    "for i, clf in enumerate(classifiers):\n",
    "  if i == 0:\n",
    "    clf_name = \"Random Forest\"\n",
    "  elif i == 1:\n",
    "    clf_name = \"K-Nearest Neighbor\"\n",
    "  else:\n",
    "    clf_name = \"Support Vector Machine\"\n",
    "print(f'Accuracy of {clf_name} model is : {accuracy_score(y_test, predictions[i])}')\n",
    "from sklearn.ensemble import BaggingClassifier, VotingClassifier\n",
    "\n",
    "#define the Bagging classifier\n",
    "rf_bagging = BaggingClassifier(base_estimator = classifiers[0], n_estimators = 10, random_state = 0)\n",
    "knn_bagging = BaggingClassifier(base_estimator = classifiers[1], n_estimators = 10, random_state =\n",
    "0)\n",
    "svm_bagging = BaggingClassifier(base_estimator = classifiers[2], n_estimators = 10, random_state =\n",
    "0)\n",
    "\n",
    "#define the Voting classifier\n",
    "voting = VotingClassifier(estimators = [('Random Forest',classifiers[0]), ('K-NearestNeighbor',classifiers[1]), ('Support Vector Machine',classifiers[2])], voting = 'soft')\n",
    "\n",
    "#Fit each classifier on the training data\n",
    "classifiers[0].fit(X_train, y_train)\n",
    "classifiers[1].fit(X_train, y_train)\n",
    "classifiers[2].fit(X_train, y_train)\n",
    "rf_bagging.fit(X_train, y_train)\n",
    "knn_bagging.fit(X_train, y_train)\n",
    "svm_bagging.fit(X_train, y_train)\n",
    "voting.fit(X_train, y_train)\n",
    "# Predict using each classifier on the testing data\n",
    "clf1_pred = classifiers[0].predict(X_test)\n",
    "clf2_pred = classifiers[1].predict(X_test)\n",
    "clf3_pred = classifiers[2].predict(X_test)\n",
    "rf_bagging_pred = rf_bagging.predict(X_test)\n",
    "knn_bagging_pred = knn_bagging.predict(X_test)\n",
    "svm_bagging_pred = svm_bagging.predict(X_test)\n",
    "voting_pred = voting.predict(X_test)\n",
    "\n",
    "# Calculate accuracy score for the bagging classifier\n",
    "rf_bagging_acc = accuracy_score(y_test, rf_bagging_pred)\n",
    "knn_bagging_acc = accuracy_score(y_test, knn_bagging_pred)\n",
    "svm_bagging_acc = accuracy_score(y_test, svm_bagging_pred)\n",
    "bagging_acc = (rf_bagging_acc + knn_bagging_acc + svm_bagging_acc) / 3.0\n",
    "\n",
    "# Calculate accuracy score for the voting classifier\n",
    "voting_acc = accuracy_score(y_test, voting_pred)\n",
    "\n",
    "#Printing the bagging and voting classifiers results\n",
    "print(\"Accuracy score for bagging classifier: {:.4f}\".format(bagging_acc))\n",
    "print(\"Accuracy score for voting classifier: {:.4f}\".format(voting_acc))\n"
   ]
  },
  {
   "cell_type": "code",
   "execution_count": null,
   "metadata": {
    "id": "RxJkktphQOfd"
   },
   "outputs": [],
   "source": []
  }
 ],
 "metadata": {
  "colab": {
   "provenance": []
  },
  "kernelspec": {
   "display_name": "Python 3",
   "name": "python3"
  },
  "language_info": {
   "name": "python"
  }
 },
 "nbformat": 4,
 "nbformat_minor": 0
}
